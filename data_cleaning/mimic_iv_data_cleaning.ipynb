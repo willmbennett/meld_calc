{
  "nbformat": 4,
  "nbformat_minor": 0,
  "metadata": {
    "colab": {
      "provenance": [],
      "authorship_tag": "ABX9TyM8HPDbo2pgadPnIlgC4Gol",
      "include_colab_link": true
    },
    "kernelspec": {
      "name": "python3",
      "display_name": "Python 3"
    },
    "language_info": {
      "name": "python"
    },
    "widgets": {
      "application/vnd.jupyter.widget-state+json": {
        "87b46e058bbf46da8d33867735fcf1d2": {
          "model_module": "@jupyter-widgets/controls",
          "model_name": "HBoxModel",
          "model_module_version": "1.5.0",
          "state": {
            "_dom_classes": [],
            "_model_module": "@jupyter-widgets/controls",
            "_model_module_version": "1.5.0",
            "_model_name": "HBoxModel",
            "_view_count": null,
            "_view_module": "@jupyter-widgets/controls",
            "_view_module_version": "1.5.0",
            "_view_name": "HBoxView",
            "box_style": "",
            "children": [
              "IPY_MODEL_54a0fd536add4e0e9e10b19fbdaac128",
              "IPY_MODEL_dc320e687a0444e2a82b082cc48a9ccc",
              "IPY_MODEL_7f8bf89ae4fd446db9590293d7ea13ae"
            ],
            "layout": "IPY_MODEL_b404c265580347138e0dbe0ee7994563"
          }
        },
        "54a0fd536add4e0e9e10b19fbdaac128": {
          "model_module": "@jupyter-widgets/controls",
          "model_name": "HTMLModel",
          "model_module_version": "1.5.0",
          "state": {
            "_dom_classes": [],
            "_model_module": "@jupyter-widgets/controls",
            "_model_module_version": "1.5.0",
            "_model_name": "HTMLModel",
            "_view_count": null,
            "_view_module": "@jupyter-widgets/controls",
            "_view_module_version": "1.5.0",
            "_view_name": "HTMLView",
            "description": "",
            "description_tooltip": null,
            "layout": "IPY_MODEL_f89734620cda431589c140832158579a",
            "placeholder": "​",
            "style": "IPY_MODEL_186116287faa4b8d985fa0ec47dc90d1",
            "value": "Job ID 148e1290-624f-47f8-b225-c73e04a6622a successfully executed: 100%"
          }
        },
        "dc320e687a0444e2a82b082cc48a9ccc": {
          "model_module": "@jupyter-widgets/controls",
          "model_name": "FloatProgressModel",
          "model_module_version": "1.5.0",
          "state": {
            "_dom_classes": [],
            "_model_module": "@jupyter-widgets/controls",
            "_model_module_version": "1.5.0",
            "_model_name": "FloatProgressModel",
            "_view_count": null,
            "_view_module": "@jupyter-widgets/controls",
            "_view_module_version": "1.5.0",
            "_view_name": "ProgressView",
            "bar_style": "success",
            "description": "",
            "description_tooltip": null,
            "layout": "IPY_MODEL_13f4d43bffb2491db3fb15d03afba699",
            "max": 1,
            "min": 0,
            "orientation": "horizontal",
            "style": "IPY_MODEL_a58e97c680ba452aa6af8621e7150e2e",
            "value": 1
          }
        },
        "7f8bf89ae4fd446db9590293d7ea13ae": {
          "model_module": "@jupyter-widgets/controls",
          "model_name": "HTMLModel",
          "model_module_version": "1.5.0",
          "state": {
            "_dom_classes": [],
            "_model_module": "@jupyter-widgets/controls",
            "_model_module_version": "1.5.0",
            "_model_name": "HTMLModel",
            "_view_count": null,
            "_view_module": "@jupyter-widgets/controls",
            "_view_module_version": "1.5.0",
            "_view_name": "HTMLView",
            "description": "",
            "description_tooltip": null,
            "layout": "IPY_MODEL_48a4ef205890401a89893296d233e8f0",
            "placeholder": "​",
            "style": "IPY_MODEL_bf0c020f7d134530a691597f86071b7b",
            "value": ""
          }
        },
        "b404c265580347138e0dbe0ee7994563": {
          "model_module": "@jupyter-widgets/base",
          "model_name": "LayoutModel",
          "model_module_version": "1.2.0",
          "state": {
            "_model_module": "@jupyter-widgets/base",
            "_model_module_version": "1.2.0",
            "_model_name": "LayoutModel",
            "_view_count": null,
            "_view_module": "@jupyter-widgets/base",
            "_view_module_version": "1.2.0",
            "_view_name": "LayoutView",
            "align_content": null,
            "align_items": null,
            "align_self": null,
            "border": null,
            "bottom": null,
            "display": null,
            "flex": null,
            "flex_flow": null,
            "grid_area": null,
            "grid_auto_columns": null,
            "grid_auto_flow": null,
            "grid_auto_rows": null,
            "grid_column": null,
            "grid_gap": null,
            "grid_row": null,
            "grid_template_areas": null,
            "grid_template_columns": null,
            "grid_template_rows": null,
            "height": null,
            "justify_content": null,
            "justify_items": null,
            "left": null,
            "margin": null,
            "max_height": null,
            "max_width": null,
            "min_height": null,
            "min_width": null,
            "object_fit": null,
            "object_position": null,
            "order": null,
            "overflow": null,
            "overflow_x": null,
            "overflow_y": null,
            "padding": null,
            "right": null,
            "top": null,
            "visibility": null,
            "width": null
          }
        },
        "f89734620cda431589c140832158579a": {
          "model_module": "@jupyter-widgets/base",
          "model_name": "LayoutModel",
          "model_module_version": "1.2.0",
          "state": {
            "_model_module": "@jupyter-widgets/base",
            "_model_module_version": "1.2.0",
            "_model_name": "LayoutModel",
            "_view_count": null,
            "_view_module": "@jupyter-widgets/base",
            "_view_module_version": "1.2.0",
            "_view_name": "LayoutView",
            "align_content": null,
            "align_items": null,
            "align_self": null,
            "border": null,
            "bottom": null,
            "display": null,
            "flex": null,
            "flex_flow": null,
            "grid_area": null,
            "grid_auto_columns": null,
            "grid_auto_flow": null,
            "grid_auto_rows": null,
            "grid_column": null,
            "grid_gap": null,
            "grid_row": null,
            "grid_template_areas": null,
            "grid_template_columns": null,
            "grid_template_rows": null,
            "height": null,
            "justify_content": null,
            "justify_items": null,
            "left": null,
            "margin": null,
            "max_height": null,
            "max_width": null,
            "min_height": null,
            "min_width": null,
            "object_fit": null,
            "object_position": null,
            "order": null,
            "overflow": null,
            "overflow_x": null,
            "overflow_y": null,
            "padding": null,
            "right": null,
            "top": null,
            "visibility": null,
            "width": null
          }
        },
        "186116287faa4b8d985fa0ec47dc90d1": {
          "model_module": "@jupyter-widgets/controls",
          "model_name": "DescriptionStyleModel",
          "model_module_version": "1.5.0",
          "state": {
            "_model_module": "@jupyter-widgets/controls",
            "_model_module_version": "1.5.0",
            "_model_name": "DescriptionStyleModel",
            "_view_count": null,
            "_view_module": "@jupyter-widgets/base",
            "_view_module_version": "1.2.0",
            "_view_name": "StyleView",
            "description_width": ""
          }
        },
        "13f4d43bffb2491db3fb15d03afba699": {
          "model_module": "@jupyter-widgets/base",
          "model_name": "LayoutModel",
          "model_module_version": "1.2.0",
          "state": {
            "_model_module": "@jupyter-widgets/base",
            "_model_module_version": "1.2.0",
            "_model_name": "LayoutModel",
            "_view_count": null,
            "_view_module": "@jupyter-widgets/base",
            "_view_module_version": "1.2.0",
            "_view_name": "LayoutView",
            "align_content": null,
            "align_items": null,
            "align_self": null,
            "border": null,
            "bottom": null,
            "display": null,
            "flex": null,
            "flex_flow": null,
            "grid_area": null,
            "grid_auto_columns": null,
            "grid_auto_flow": null,
            "grid_auto_rows": null,
            "grid_column": null,
            "grid_gap": null,
            "grid_row": null,
            "grid_template_areas": null,
            "grid_template_columns": null,
            "grid_template_rows": null,
            "height": null,
            "justify_content": null,
            "justify_items": null,
            "left": null,
            "margin": null,
            "max_height": null,
            "max_width": null,
            "min_height": null,
            "min_width": null,
            "object_fit": null,
            "object_position": null,
            "order": null,
            "overflow": null,
            "overflow_x": null,
            "overflow_y": null,
            "padding": null,
            "right": null,
            "top": null,
            "visibility": null,
            "width": null
          }
        },
        "a58e97c680ba452aa6af8621e7150e2e": {
          "model_module": "@jupyter-widgets/controls",
          "model_name": "ProgressStyleModel",
          "model_module_version": "1.5.0",
          "state": {
            "_model_module": "@jupyter-widgets/controls",
            "_model_module_version": "1.5.0",
            "_model_name": "ProgressStyleModel",
            "_view_count": null,
            "_view_module": "@jupyter-widgets/base",
            "_view_module_version": "1.2.0",
            "_view_name": "StyleView",
            "bar_color": null,
            "description_width": ""
          }
        },
        "48a4ef205890401a89893296d233e8f0": {
          "model_module": "@jupyter-widgets/base",
          "model_name": "LayoutModel",
          "model_module_version": "1.2.0",
          "state": {
            "_model_module": "@jupyter-widgets/base",
            "_model_module_version": "1.2.0",
            "_model_name": "LayoutModel",
            "_view_count": null,
            "_view_module": "@jupyter-widgets/base",
            "_view_module_version": "1.2.0",
            "_view_name": "LayoutView",
            "align_content": null,
            "align_items": null,
            "align_self": null,
            "border": null,
            "bottom": null,
            "display": null,
            "flex": null,
            "flex_flow": null,
            "grid_area": null,
            "grid_auto_columns": null,
            "grid_auto_flow": null,
            "grid_auto_rows": null,
            "grid_column": null,
            "grid_gap": null,
            "grid_row": null,
            "grid_template_areas": null,
            "grid_template_columns": null,
            "grid_template_rows": null,
            "height": null,
            "justify_content": null,
            "justify_items": null,
            "left": null,
            "margin": null,
            "max_height": null,
            "max_width": null,
            "min_height": null,
            "min_width": null,
            "object_fit": null,
            "object_position": null,
            "order": null,
            "overflow": null,
            "overflow_x": null,
            "overflow_y": null,
            "padding": null,
            "right": null,
            "top": null,
            "visibility": null,
            "width": null
          }
        },
        "bf0c020f7d134530a691597f86071b7b": {
          "model_module": "@jupyter-widgets/controls",
          "model_name": "DescriptionStyleModel",
          "model_module_version": "1.5.0",
          "state": {
            "_model_module": "@jupyter-widgets/controls",
            "_model_module_version": "1.5.0",
            "_model_name": "DescriptionStyleModel",
            "_view_count": null,
            "_view_module": "@jupyter-widgets/base",
            "_view_module_version": "1.2.0",
            "_view_name": "StyleView",
            "description_width": ""
          }
        },
        "b2dc9a39d815448cb4026c7928af6085": {
          "model_module": "@jupyter-widgets/controls",
          "model_name": "HBoxModel",
          "model_module_version": "1.5.0",
          "state": {
            "_dom_classes": [],
            "_model_module": "@jupyter-widgets/controls",
            "_model_module_version": "1.5.0",
            "_model_name": "HBoxModel",
            "_view_count": null,
            "_view_module": "@jupyter-widgets/controls",
            "_view_module_version": "1.5.0",
            "_view_name": "HBoxView",
            "box_style": "",
            "children": [
              "IPY_MODEL_98c6837c938c46369ca8a8242a09a166",
              "IPY_MODEL_19a05e39f2124820aa9f668ccec23ac7",
              "IPY_MODEL_8137a4d205ef4a5baad369c0424dc5c4"
            ],
            "layout": "IPY_MODEL_b015b64952d542889b36a36d5e062a3d"
          }
        },
        "98c6837c938c46369ca8a8242a09a166": {
          "model_module": "@jupyter-widgets/controls",
          "model_name": "HTMLModel",
          "model_module_version": "1.5.0",
          "state": {
            "_dom_classes": [],
            "_model_module": "@jupyter-widgets/controls",
            "_model_module_version": "1.5.0",
            "_model_name": "HTMLModel",
            "_view_count": null,
            "_view_module": "@jupyter-widgets/controls",
            "_view_module_version": "1.5.0",
            "_view_name": "HTMLView",
            "description": "",
            "description_tooltip": null,
            "layout": "IPY_MODEL_458ed63421fe480183598885e954634d",
            "placeholder": "​",
            "style": "IPY_MODEL_4b1f6a7389a143458b7afbcb6fa8e57e",
            "value": "Downloading: 100%"
          }
        },
        "19a05e39f2124820aa9f668ccec23ac7": {
          "model_module": "@jupyter-widgets/controls",
          "model_name": "FloatProgressModel",
          "model_module_version": "1.5.0",
          "state": {
            "_dom_classes": [],
            "_model_module": "@jupyter-widgets/controls",
            "_model_module_version": "1.5.0",
            "_model_name": "FloatProgressModel",
            "_view_count": null,
            "_view_module": "@jupyter-widgets/controls",
            "_view_module_version": "1.5.0",
            "_view_name": "ProgressView",
            "bar_style": "success",
            "description": "",
            "description_tooltip": null,
            "layout": "IPY_MODEL_9cfc347dd91d4144b14edd902f21da53",
            "max": 10773,
            "min": 0,
            "orientation": "horizontal",
            "style": "IPY_MODEL_f2dbdb9420ff4470b7a11bda9d2df344",
            "value": 10773
          }
        },
        "8137a4d205ef4a5baad369c0424dc5c4": {
          "model_module": "@jupyter-widgets/controls",
          "model_name": "HTMLModel",
          "model_module_version": "1.5.0",
          "state": {
            "_dom_classes": [],
            "_model_module": "@jupyter-widgets/controls",
            "_model_module_version": "1.5.0",
            "_model_name": "HTMLModel",
            "_view_count": null,
            "_view_module": "@jupyter-widgets/controls",
            "_view_module_version": "1.5.0",
            "_view_name": "HTMLView",
            "description": "",
            "description_tooltip": null,
            "layout": "IPY_MODEL_2dd1df7ba3254c06862542db9da49d3a",
            "placeholder": "​",
            "style": "IPY_MODEL_ed6790faaae3434eae4eea4bc4bde500",
            "value": ""
          }
        },
        "b015b64952d542889b36a36d5e062a3d": {
          "model_module": "@jupyter-widgets/base",
          "model_name": "LayoutModel",
          "model_module_version": "1.2.0",
          "state": {
            "_model_module": "@jupyter-widgets/base",
            "_model_module_version": "1.2.0",
            "_model_name": "LayoutModel",
            "_view_count": null,
            "_view_module": "@jupyter-widgets/base",
            "_view_module_version": "1.2.0",
            "_view_name": "LayoutView",
            "align_content": null,
            "align_items": null,
            "align_self": null,
            "border": null,
            "bottom": null,
            "display": null,
            "flex": null,
            "flex_flow": null,
            "grid_area": null,
            "grid_auto_columns": null,
            "grid_auto_flow": null,
            "grid_auto_rows": null,
            "grid_column": null,
            "grid_gap": null,
            "grid_row": null,
            "grid_template_areas": null,
            "grid_template_columns": null,
            "grid_template_rows": null,
            "height": null,
            "justify_content": null,
            "justify_items": null,
            "left": null,
            "margin": null,
            "max_height": null,
            "max_width": null,
            "min_height": null,
            "min_width": null,
            "object_fit": null,
            "object_position": null,
            "order": null,
            "overflow": null,
            "overflow_x": null,
            "overflow_y": null,
            "padding": null,
            "right": null,
            "top": null,
            "visibility": null,
            "width": null
          }
        },
        "458ed63421fe480183598885e954634d": {
          "model_module": "@jupyter-widgets/base",
          "model_name": "LayoutModel",
          "model_module_version": "1.2.0",
          "state": {
            "_model_module": "@jupyter-widgets/base",
            "_model_module_version": "1.2.0",
            "_model_name": "LayoutModel",
            "_view_count": null,
            "_view_module": "@jupyter-widgets/base",
            "_view_module_version": "1.2.0",
            "_view_name": "LayoutView",
            "align_content": null,
            "align_items": null,
            "align_self": null,
            "border": null,
            "bottom": null,
            "display": null,
            "flex": null,
            "flex_flow": null,
            "grid_area": null,
            "grid_auto_columns": null,
            "grid_auto_flow": null,
            "grid_auto_rows": null,
            "grid_column": null,
            "grid_gap": null,
            "grid_row": null,
            "grid_template_areas": null,
            "grid_template_columns": null,
            "grid_template_rows": null,
            "height": null,
            "justify_content": null,
            "justify_items": null,
            "left": null,
            "margin": null,
            "max_height": null,
            "max_width": null,
            "min_height": null,
            "min_width": null,
            "object_fit": null,
            "object_position": null,
            "order": null,
            "overflow": null,
            "overflow_x": null,
            "overflow_y": null,
            "padding": null,
            "right": null,
            "top": null,
            "visibility": null,
            "width": null
          }
        },
        "4b1f6a7389a143458b7afbcb6fa8e57e": {
          "model_module": "@jupyter-widgets/controls",
          "model_name": "DescriptionStyleModel",
          "model_module_version": "1.5.0",
          "state": {
            "_model_module": "@jupyter-widgets/controls",
            "_model_module_version": "1.5.0",
            "_model_name": "DescriptionStyleModel",
            "_view_count": null,
            "_view_module": "@jupyter-widgets/base",
            "_view_module_version": "1.2.0",
            "_view_name": "StyleView",
            "description_width": ""
          }
        },
        "9cfc347dd91d4144b14edd902f21da53": {
          "model_module": "@jupyter-widgets/base",
          "model_name": "LayoutModel",
          "model_module_version": "1.2.0",
          "state": {
            "_model_module": "@jupyter-widgets/base",
            "_model_module_version": "1.2.0",
            "_model_name": "LayoutModel",
            "_view_count": null,
            "_view_module": "@jupyter-widgets/base",
            "_view_module_version": "1.2.0",
            "_view_name": "LayoutView",
            "align_content": null,
            "align_items": null,
            "align_self": null,
            "border": null,
            "bottom": null,
            "display": null,
            "flex": null,
            "flex_flow": null,
            "grid_area": null,
            "grid_auto_columns": null,
            "grid_auto_flow": null,
            "grid_auto_rows": null,
            "grid_column": null,
            "grid_gap": null,
            "grid_row": null,
            "grid_template_areas": null,
            "grid_template_columns": null,
            "grid_template_rows": null,
            "height": null,
            "justify_content": null,
            "justify_items": null,
            "left": null,
            "margin": null,
            "max_height": null,
            "max_width": null,
            "min_height": null,
            "min_width": null,
            "object_fit": null,
            "object_position": null,
            "order": null,
            "overflow": null,
            "overflow_x": null,
            "overflow_y": null,
            "padding": null,
            "right": null,
            "top": null,
            "visibility": null,
            "width": null
          }
        },
        "f2dbdb9420ff4470b7a11bda9d2df344": {
          "model_module": "@jupyter-widgets/controls",
          "model_name": "ProgressStyleModel",
          "model_module_version": "1.5.0",
          "state": {
            "_model_module": "@jupyter-widgets/controls",
            "_model_module_version": "1.5.0",
            "_model_name": "ProgressStyleModel",
            "_view_count": null,
            "_view_module": "@jupyter-widgets/base",
            "_view_module_version": "1.2.0",
            "_view_name": "StyleView",
            "bar_color": null,
            "description_width": ""
          }
        },
        "2dd1df7ba3254c06862542db9da49d3a": {
          "model_module": "@jupyter-widgets/base",
          "model_name": "LayoutModel",
          "model_module_version": "1.2.0",
          "state": {
            "_model_module": "@jupyter-widgets/base",
            "_model_module_version": "1.2.0",
            "_model_name": "LayoutModel",
            "_view_count": null,
            "_view_module": "@jupyter-widgets/base",
            "_view_module_version": "1.2.0",
            "_view_name": "LayoutView",
            "align_content": null,
            "align_items": null,
            "align_self": null,
            "border": null,
            "bottom": null,
            "display": null,
            "flex": null,
            "flex_flow": null,
            "grid_area": null,
            "grid_auto_columns": null,
            "grid_auto_flow": null,
            "grid_auto_rows": null,
            "grid_column": null,
            "grid_gap": null,
            "grid_row": null,
            "grid_template_areas": null,
            "grid_template_columns": null,
            "grid_template_rows": null,
            "height": null,
            "justify_content": null,
            "justify_items": null,
            "left": null,
            "margin": null,
            "max_height": null,
            "max_width": null,
            "min_height": null,
            "min_width": null,
            "object_fit": null,
            "object_position": null,
            "order": null,
            "overflow": null,
            "overflow_x": null,
            "overflow_y": null,
            "padding": null,
            "right": null,
            "top": null,
            "visibility": null,
            "width": null
          }
        },
        "ed6790faaae3434eae4eea4bc4bde500": {
          "model_module": "@jupyter-widgets/controls",
          "model_name": "DescriptionStyleModel",
          "model_module_version": "1.5.0",
          "state": {
            "_model_module": "@jupyter-widgets/controls",
            "_model_module_version": "1.5.0",
            "_model_name": "DescriptionStyleModel",
            "_view_count": null,
            "_view_module": "@jupyter-widgets/base",
            "_view_module_version": "1.2.0",
            "_view_name": "StyleView",
            "description_width": ""
          }
        }
      }
    }
  },
  "cells": [
    {
      "cell_type": "markdown",
      "metadata": {
        "id": "view-in-github",
        "colab_type": "text"
      },
      "source": [
        "<a href=\"https://colab.research.google.com/github/willmbennett/meld_calc/blob/main/mimic_iv_data_cleaning.ipynb\" target=\"_parent\"><img src=\"https://colab.research.google.com/assets/colab-badge.svg\" alt=\"Open In Colab\"/></a>"
      ]
    },
    {
      "cell_type": "markdown",
      "source": [
        "## MIMIC IV Data Cleaning\n",
        "The purpose of this notebook is to access the [MIMIC-IV](https://physionet.org/content/mimiciv/2.2/) files stored in BigQuery, clean them, and turn them into a csv for reading. Before doing this it's necessary to complete the steps to access the data."
      ],
      "metadata": {
        "id": "v6vBSjT1536p"
      }
    },
    {
      "cell_type": "markdown",
      "source": [
        "To do this it's neccesary to authenticate"
      ],
      "metadata": {
        "id": "LP-8d1SNcfAZ"
      }
    },
    {
      "cell_type": "code",
      "execution_count": 1,
      "metadata": {
        "colab": {
          "base_uri": "https://localhost:8080/"
        },
        "id": "6bbjrvee5zs1",
        "outputId": "0254bf03-42aa-4652-d919-0c2afc0cdcc0"
      },
      "outputs": [
        {
          "output_type": "stream",
          "name": "stdout",
          "text": [
            "Authenticated\n"
          ]
        }
      ],
      "source": [
        "from google.colab import auth\n",
        "auth.authenticate_user()\n",
        "print('Authenticated')"
      ]
    },
    {
      "cell_type": "markdown",
      "source": [
        "I'll also mount Google Drive to store the final data"
      ],
      "metadata": {
        "id": "6e1kw0xOcsEf"
      }
    },
    {
      "cell_type": "code",
      "source": [
        "# GDRIVE local files\n",
        "from google.colab import drive\n",
        "drive.mount('/content/drive')\n",
        "import sys\n",
        "sys.path.append('/content/drive/MyDrive/Flatiron/phase 5/colab')"
      ],
      "metadata": {
        "colab": {
          "base_uri": "https://localhost:8080/"
        },
        "id": "-OArDMzJ6oYk",
        "outputId": "aa233153-0fa0-470d-a7bf-9782a9edd509"
      },
      "execution_count": 2,
      "outputs": [
        {
          "output_type": "stream",
          "name": "stdout",
          "text": [
            "Mounted at /content/drive\n"
          ]
        }
      ]
    },
    {
      "cell_type": "code",
      "source": [
        "# Load the data_table module\n",
        "%load_ext google.colab.data_table"
      ],
      "metadata": {
        "id": "r0kVqVxn5_8W"
      },
      "execution_count": 3,
      "outputs": []
    },
    {
      "cell_type": "code",
      "source": [
        "%%bigquery df --project mimic-iv-388714\n",
        "\n",
        "-- Start by pulling all ICD codes from diagnosis\n",
        "WITH dx AS\n",
        "(\n",
        "  SELECT hadm_id, icd_version, TRIM(icd_code) AS icd_code\n",
        "  FROM `physionet-data.mimiciv_hosp.diagnoses_icd`\n",
        ")\n",
        "\n",
        "-- ICD 9 codes to include\n",
        ", dx_icd9 AS\n",
        "(\n",
        "\tSELECT hadm_id,\n",
        "        MAX(CASE\n",
        "            WHEN icd_code IN ('5715', '5712', '5716') THEN 1\n",
        "        ELSE 0 END) AS explicit_cirrhosis\n",
        "        ,MAX(CASE\n",
        "            WHEN icd_code IN ('30390', 'V113', '30500', '5715', '5718', '30503', '5711', '30393', '5712',\n",
        "            '30391', '30501', '5710', '30301', '9808', '30302', '5713', '3575', '30300', 'V6141', '5719',\n",
        "            '30392', '53530', '2911', '29181', '30502', '2910', '29189', '53531', '2913', '9800', '9802',\n",
        "            '2919', '4255', '30303', '9809', '2912', '9773', 'E8603', '76071', 'E8609', 'E9473', 'E8600',\n",
        "            '29182', '7903') THEN 1\n",
        "        ELSE 0 END) AS alcohol_use\n",
        "        ,MAX(CASE\n",
        "            WHEN icd_code IN ('5718', '5728', '5719') THEN 1\n",
        "        ELSE 0 END) AS liver_disease\n",
        "        ,MAX(CASE\n",
        "            WHEN icd_code IN ('57142', '7032', '7022', '7033') THEN 1\n",
        "        ELSE 0 END) AS hep\n",
        "\tFROM dx\n",
        "    WHERE icd_version = 9\n",
        "    GROUP BY hadm_id\n",
        "),\n",
        "\n",
        "-- ICD 10 codes to include\n",
        "dx_icd10 AS\n",
        "(\n",
        "    SELECT\n",
        "        hadm_id,\n",
        "        MAX(CASE\n",
        "            WHEN icd_code IN ('K7030', 'K7460', 'K7031', 'K7469', 'K743', 'K717', 'K744', 'K745') THEN 1\n",
        "        ELSE 0 END) AS explicit_cirrhosis\n",
        "        ,MAX(CASE\n",
        "            WHEN icd_code IN ('F1021', 'K7581', 'K7040', 'K7030', 'K7010', 'F1011', 'Z811', 'F1010', 'F1020',\n",
        "            'F10129', 'K7031', 'K700', 'F1096', 'K7011', 'Y906', 'Y900', 'F10229', 'Y908', 'F10929', 'Y905',\n",
        "            'K2920', 'Y909', 'G621', 'F1097', 'Y904', 'Y901', 'K709', 'F10220', 'Y907', 'F10120', 'F10239',\n",
        "            'F10231', 'F1014', 'K8520', 'F1094', 'F10121', 'K852', 'F10230', 'F1024', 'K860', 'K8521', 'F10221',\n",
        "            'F1027', 'G312', 'F1026', 'F10232', 'F10259', 'K2921', 'K8522', 'T518X2A', 'T5194XA', 'K7041',\n",
        "            'F10959', 'F10250', 'F10951', 'F1099', 'F1019', 'F10251', 'O99311', 'F1029', 'F10920', 'F10988',\n",
        "            'I426', 'F10188', 'F10288', 'T5192XA', 'F10151', 'O99313', 'F10980', 'O99312', 'Y903', 'F10180',\n",
        "            'F10159', 'G721', 'K702', 'R780', 'Q860', 'O99314', 'E244', 'Y902', 'T5191XA', 'F10280', 'Z7141',\n",
        "            'Z6372', 'F10282') THEN 1\n",
        "        ELSE 0 END) AS alcohol_use\n",
        "        ,MAX(CASE\n",
        "            WHEN icd_code IN ('K769', 'K713', 'K7589', 'K7110', 'K712', 'K759', 'K709', 'K716', 'K710', 'K719',\n",
        "            'K717', 'K7151', 'K718', 'K7111') THEN 1\n",
        "        ELSE 0 END) AS liver_disease\n",
        "        ,MAX(CASE\n",
        "            WHEN icd_code IN ('K8301') THEN 1\n",
        "        ELSE 0 END) AS psc\n",
        "        ,MAX(CASE\n",
        "            WHEN icd_code IN ('K754', 'B182', 'B181', 'B189', 'B188') THEN 1\n",
        "        ELSE 0 END) AS hep\n",
        "    FROM dx\n",
        "    WHERE icd_version = 10\n",
        "    GROUP BY hadm_id\n",
        ")\n",
        "\n",
        "-- Liver Transplant from procedure data (will be excluded)\n",
        ", proc_icd9 as\n",
        "(\n",
        "\tSELECT subject_id,\n",
        "\t\tMAX(CASE\n",
        "\t\tWHEN icd_code IN ('5051', '5059') THEN 1\n",
        "\t\tELSE 0 END) AS liv_trans\n",
        "\tFROM `physionet-data.mimiciv_hosp.procedures_icd`\n",
        "    WHERE icd_version = 9\n",
        "    GROUP BY subject_id\n",
        ")\n",
        ", proc_icd10 AS\n",
        "(\n",
        "\tSELECT subject_id,\n",
        "\t\tMAX(CASE\n",
        "\t\tWHEN icd_code IN ('0FY00Z0', '0FY00Z1') THEN 1\n",
        "\t\tELSE 0 END) AS liv_trans\n",
        "\tFROM `physionet-data.mimiciv_hosp.procedures_icd`\n",
        "    WHERE icd_version = 10\n",
        "    GROUP BY subject_id\n",
        ")\n",
        "-- Aggregate above views together\n",
        ", aggregate as\n",
        "(\n",
        "\tSELECT adm.subject_id, adm.hadm_id\n",
        "\t\t, GREATEST(COALESCE(dx_icd9.explicit_cirrhosis, 0), COALESCE(dx_icd10.explicit_cirrhosis, 0)) AS explicit_cirrhosis\n",
        "\t\t, GREATEST(COALESCE(proc_icd9.liv_trans, 0), COALESCE(proc_icd10.liv_trans, 0)) AS liv_trans\n",
        "\t\t, GREATEST(COALESCE(dx_icd9.alcohol_use, 0), COALESCE(dx_icd10.alcohol_use, 0)) AS alcohol_use\n",
        "\t\t, GREATEST(COALESCE(dx_icd9.liver_disease, 0), COALESCE(dx_icd10.liver_disease, 0)) AS liver_disease\n",
        "\t\t, COALESCE(dx_icd10.psc, 0) AS psc\n",
        "\t\t, GREATEST(COALESCE(dx_icd9.hep, 0), COALESCE(dx_icd10.hep, 0)) AS hep\n",
        "\tFROM `physionet-data.mimiciv_hosp.admissions` adm\n",
        "    LEFT JOIN dx_icd9\n",
        "        ON adm.hadm_id = dx_icd9.hadm_id\n",
        "    LEFT JOIN dx_icd10\n",
        "        ON adm.hadm_id = dx_icd10.hadm_id\n",
        "    LEFT JOIN proc_icd9\n",
        "        ON adm.subject_id = proc_icd9.subject_id\n",
        "    LEFT JOIN proc_icd10\n",
        "        ON adm.subject_id = proc_icd10.subject_id\n",
        ")\n",
        "\n",
        ", cohort_creation as (\n",
        "-- Output component flags (explicit_cirrhosis, alcohol_use, liver_disease, psc, hep) and final flag (cirrhosis)\n",
        "SELECT subject_id, hadm_id, explicit_cirrhosis, alcohol_use, liver_disease, psc, hep,\n",
        "COALESCE(GREATEST(explicit_cirrhosis, alcohol_use, liver_disease, psc, hep), 0) AS cirrhosis\n",
        "FROM aggregate\n",
        "WHERE liv_trans != 1 -- remove patients admitied for liver transplant or related\n",
        "  AND (explicit_cirrhosis = 1\n",
        "        OR alcohol_use = 1\n",
        "        OR liver_disease = 1\n",
        "        OR psc = 1\n",
        "        OR hep = 1)\n",
        ")\n",
        "\n",
        "-- Final table creation\n",
        "SELECT ie.stay_id\n",
        "       ,id.admittime\n",
        "       ,id.dod\n",
        "       ,id.race\n",
        "       ,id.gender\n",
        "       ,id.admission_age as age\n",
        "       ,labs.*\n",
        "       ,r.dialysis_present\n",
        "       ,m.meld_initial\n",
        "       ,m.meld\n",
        "       ,case when id.dod <= CAST(DATETIME_ADD(id.admittime, INTERVAL 90 DAY) AS DATE) then 1 else 0 end as target\n",
        "FROM `physionet-data.mimiciv_icu.icustays` ie\n",
        "JOIN `physionet-data.mimiciv_derived.icustay_detail` id ON id.stay_id = ie.stay_id\n",
        "JOIN `physionet-data.mimiciv_derived.meld` m on m.stay_id =  ie.stay_id\n",
        "JOIN cohort_creation cohort on cohort.hadm_id = ie.hadm_id\n",
        "LEFT JOIN `physionet-data.mimiciv_derived.first_day_lab` labs ON ie.stay_id = labs.stay_id\n",
        "LEFT JOIN `physionet-data.mimiciv_derived.first_day_rrt` r ON ie.stay_id = r.stay_id"
      ],
      "metadata": {
        "colab": {
          "base_uri": "https://localhost:8080/",
          "height": 81,
          "referenced_widgets": [
            "87b46e058bbf46da8d33867735fcf1d2",
            "54a0fd536add4e0e9e10b19fbdaac128",
            "dc320e687a0444e2a82b082cc48a9ccc",
            "7f8bf89ae4fd446db9590293d7ea13ae",
            "b404c265580347138e0dbe0ee7994563",
            "f89734620cda431589c140832158579a",
            "186116287faa4b8d985fa0ec47dc90d1",
            "13f4d43bffb2491db3fb15d03afba699",
            "a58e97c680ba452aa6af8621e7150e2e",
            "48a4ef205890401a89893296d233e8f0",
            "bf0c020f7d134530a691597f86071b7b",
            "b2dc9a39d815448cb4026c7928af6085",
            "98c6837c938c46369ca8a8242a09a166",
            "19a05e39f2124820aa9f668ccec23ac7",
            "8137a4d205ef4a5baad369c0424dc5c4",
            "b015b64952d542889b36a36d5e062a3d",
            "458ed63421fe480183598885e954634d",
            "4b1f6a7389a143458b7afbcb6fa8e57e",
            "9cfc347dd91d4144b14edd902f21da53",
            "f2dbdb9420ff4470b7a11bda9d2df344",
            "2dd1df7ba3254c06862542db9da49d3a",
            "ed6790faaae3434eae4eea4bc4bde500"
          ]
        },
        "id": "uomc5K4i6Bf0",
        "outputId": "6060d542-3e85-4ee3-ccf4-0c787316eb23"
      },
      "execution_count": 4,
      "outputs": [
        {
          "output_type": "display_data",
          "data": {
            "text/plain": [
              "Query is running:   0%|          |"
            ],
            "application/vnd.jupyter.widget-view+json": {
              "version_major": 2,
              "version_minor": 0,
              "model_id": "87b46e058bbf46da8d33867735fcf1d2"
            }
          },
          "metadata": {}
        },
        {
          "output_type": "display_data",
          "data": {
            "text/plain": [
              "Downloading:   0%|          |"
            ],
            "application/vnd.jupyter.widget-view+json": {
              "version_major": 2,
              "version_minor": 0,
              "model_id": "b2dc9a39d815448cb4026c7928af6085"
            }
          },
          "metadata": {}
        }
      ]
    },
    {
      "cell_type": "markdown",
      "source": [
        "Now that I've queried the data I will check out the data"
      ],
      "metadata": {
        "id": "uPuamQUedQzC"
      }
    },
    {
      "cell_type": "code",
      "source": [
        "df.head(5)"
      ],
      "metadata": {
        "colab": {
          "base_uri": "https://localhost:8080/",
          "height": 404
        },
        "id": "GQULJvJQ6GtI",
        "outputId": "d9fa5467-7a47-4ca0-f10b-2c80bbe12822"
      },
      "execution_count": 5,
      "outputs": [
        {
          "output_type": "stream",
          "name": "stdout",
          "text": [
            "Warning: Total number of columns (98) exceeds max_columns (20). Falling back to pandas display.\n"
          ]
        },
        {
          "output_type": "execute_result",
          "data": {
            "text/plain": [
              "    stay_id           admittime         dod     race gender  age  subject_id  \\\n",
              "0  30908451 2136-06-28 19:23:00         NaT    WHITE      M   36    10122346   \n",
              "1  38120799 2113-03-08 10:38:00  2113-03-12    WHITE      M   55    16942323   \n",
              "2  35807915 2130-01-18 18:46:00  2130-01-21    WHITE      M   42    14576761   \n",
              "3  34920278 2126-06-10 19:57:00  2126-06-24  UNKNOWN      M   81    17403434   \n",
              "4  35217267 2113-12-13 18:31:00  2113-12-25    OTHER      F   67    10098875   \n",
              "\n",
              "   stay_id_1  hematocrit_min  hematocrit_max  ...  ck_mb_min  ck_mb_max  \\\n",
              "0   30908451            32.4            35.5  ...        5.0        5.0   \n",
              "1   38120799            24.5            26.7  ...        NaN        NaN   \n",
              "2   35807915            22.6            32.5  ...       18.0       20.0   \n",
              "3   34920278            26.2            38.5  ...        NaN        NaN   \n",
              "4   35217267            22.7            23.0  ...        NaN        NaN   \n",
              "\n",
              "   ggt_min  ggt_max  ld_ldh_min  ld_ldh_max  dialysis_present  meld_initial  \\\n",
              "0      NaN      NaN         NaN         NaN              <NA>   6.000000000   \n",
              "1     76.0     76.0       733.0       733.0              <NA>  16.000000000   \n",
              "2      NaN      NaN      1586.0      1861.0                 1  40.000000000   \n",
              "3      NaN      NaN       180.0       239.0              <NA>  29.000000000   \n",
              "4      NaN      NaN       304.0       304.0              <NA>  11.000000000   \n",
              "\n",
              "   meld  target  \n",
              "0   6.0       0  \n",
              "1  16.0       1  \n",
              "2  40.0       1  \n",
              "3  29.0       1  \n",
              "4  11.0       1  \n",
              "\n",
              "[5 rows x 98 columns]"
            ],
            "text/html": [
              "\n",
              "\n",
              "  <div id=\"df-9395258b-6088-4a4b-8237-564cd64872cd\">\n",
              "    <div class=\"colab-df-container\">\n",
              "      <div>\n",
              "<style scoped>\n",
              "    .dataframe tbody tr th:only-of-type {\n",
              "        vertical-align: middle;\n",
              "    }\n",
              "\n",
              "    .dataframe tbody tr th {\n",
              "        vertical-align: top;\n",
              "    }\n",
              "\n",
              "    .dataframe thead th {\n",
              "        text-align: right;\n",
              "    }\n",
              "</style>\n",
              "<table border=\"1\" class=\"dataframe\">\n",
              "  <thead>\n",
              "    <tr style=\"text-align: right;\">\n",
              "      <th></th>\n",
              "      <th>stay_id</th>\n",
              "      <th>admittime</th>\n",
              "      <th>dod</th>\n",
              "      <th>race</th>\n",
              "      <th>gender</th>\n",
              "      <th>age</th>\n",
              "      <th>subject_id</th>\n",
              "      <th>stay_id_1</th>\n",
              "      <th>hematocrit_min</th>\n",
              "      <th>hematocrit_max</th>\n",
              "      <th>...</th>\n",
              "      <th>ck_mb_min</th>\n",
              "      <th>ck_mb_max</th>\n",
              "      <th>ggt_min</th>\n",
              "      <th>ggt_max</th>\n",
              "      <th>ld_ldh_min</th>\n",
              "      <th>ld_ldh_max</th>\n",
              "      <th>dialysis_present</th>\n",
              "      <th>meld_initial</th>\n",
              "      <th>meld</th>\n",
              "      <th>target</th>\n",
              "    </tr>\n",
              "  </thead>\n",
              "  <tbody>\n",
              "    <tr>\n",
              "      <th>0</th>\n",
              "      <td>30908451</td>\n",
              "      <td>2136-06-28 19:23:00</td>\n",
              "      <td>NaT</td>\n",
              "      <td>WHITE</td>\n",
              "      <td>M</td>\n",
              "      <td>36</td>\n",
              "      <td>10122346</td>\n",
              "      <td>30908451</td>\n",
              "      <td>32.4</td>\n",
              "      <td>35.5</td>\n",
              "      <td>...</td>\n",
              "      <td>5.0</td>\n",
              "      <td>5.0</td>\n",
              "      <td>NaN</td>\n",
              "      <td>NaN</td>\n",
              "      <td>NaN</td>\n",
              "      <td>NaN</td>\n",
              "      <td>&lt;NA&gt;</td>\n",
              "      <td>6.000000000</td>\n",
              "      <td>6.0</td>\n",
              "      <td>0</td>\n",
              "    </tr>\n",
              "    <tr>\n",
              "      <th>1</th>\n",
              "      <td>38120799</td>\n",
              "      <td>2113-03-08 10:38:00</td>\n",
              "      <td>2113-03-12</td>\n",
              "      <td>WHITE</td>\n",
              "      <td>M</td>\n",
              "      <td>55</td>\n",
              "      <td>16942323</td>\n",
              "      <td>38120799</td>\n",
              "      <td>24.5</td>\n",
              "      <td>26.7</td>\n",
              "      <td>...</td>\n",
              "      <td>NaN</td>\n",
              "      <td>NaN</td>\n",
              "      <td>76.0</td>\n",
              "      <td>76.0</td>\n",
              "      <td>733.0</td>\n",
              "      <td>733.0</td>\n",
              "      <td>&lt;NA&gt;</td>\n",
              "      <td>16.000000000</td>\n",
              "      <td>16.0</td>\n",
              "      <td>1</td>\n",
              "    </tr>\n",
              "    <tr>\n",
              "      <th>2</th>\n",
              "      <td>35807915</td>\n",
              "      <td>2130-01-18 18:46:00</td>\n",
              "      <td>2130-01-21</td>\n",
              "      <td>WHITE</td>\n",
              "      <td>M</td>\n",
              "      <td>42</td>\n",
              "      <td>14576761</td>\n",
              "      <td>35807915</td>\n",
              "      <td>22.6</td>\n",
              "      <td>32.5</td>\n",
              "      <td>...</td>\n",
              "      <td>18.0</td>\n",
              "      <td>20.0</td>\n",
              "      <td>NaN</td>\n",
              "      <td>NaN</td>\n",
              "      <td>1586.0</td>\n",
              "      <td>1861.0</td>\n",
              "      <td>1</td>\n",
              "      <td>40.000000000</td>\n",
              "      <td>40.0</td>\n",
              "      <td>1</td>\n",
              "    </tr>\n",
              "    <tr>\n",
              "      <th>3</th>\n",
              "      <td>34920278</td>\n",
              "      <td>2126-06-10 19:57:00</td>\n",
              "      <td>2126-06-24</td>\n",
              "      <td>UNKNOWN</td>\n",
              "      <td>M</td>\n",
              "      <td>81</td>\n",
              "      <td>17403434</td>\n",
              "      <td>34920278</td>\n",
              "      <td>26.2</td>\n",
              "      <td>38.5</td>\n",
              "      <td>...</td>\n",
              "      <td>NaN</td>\n",
              "      <td>NaN</td>\n",
              "      <td>NaN</td>\n",
              "      <td>NaN</td>\n",
              "      <td>180.0</td>\n",
              "      <td>239.0</td>\n",
              "      <td>&lt;NA&gt;</td>\n",
              "      <td>29.000000000</td>\n",
              "      <td>29.0</td>\n",
              "      <td>1</td>\n",
              "    </tr>\n",
              "    <tr>\n",
              "      <th>4</th>\n",
              "      <td>35217267</td>\n",
              "      <td>2113-12-13 18:31:00</td>\n",
              "      <td>2113-12-25</td>\n",
              "      <td>OTHER</td>\n",
              "      <td>F</td>\n",
              "      <td>67</td>\n",
              "      <td>10098875</td>\n",
              "      <td>35217267</td>\n",
              "      <td>22.7</td>\n",
              "      <td>23.0</td>\n",
              "      <td>...</td>\n",
              "      <td>NaN</td>\n",
              "      <td>NaN</td>\n",
              "      <td>NaN</td>\n",
              "      <td>NaN</td>\n",
              "      <td>304.0</td>\n",
              "      <td>304.0</td>\n",
              "      <td>&lt;NA&gt;</td>\n",
              "      <td>11.000000000</td>\n",
              "      <td>11.0</td>\n",
              "      <td>1</td>\n",
              "    </tr>\n",
              "  </tbody>\n",
              "</table>\n",
              "<p>5 rows × 98 columns</p>\n",
              "</div>\n",
              "      <button class=\"colab-df-convert\" onclick=\"convertToInteractive('df-9395258b-6088-4a4b-8237-564cd64872cd')\"\n",
              "              title=\"Convert this dataframe to an interactive table.\"\n",
              "              style=\"display:none;\">\n",
              "\n",
              "  <svg xmlns=\"http://www.w3.org/2000/svg\" height=\"24px\"viewBox=\"0 0 24 24\"\n",
              "       width=\"24px\">\n",
              "    <path d=\"M0 0h24v24H0V0z\" fill=\"none\"/>\n",
              "    <path d=\"M18.56 5.44l.94 2.06.94-2.06 2.06-.94-2.06-.94-.94-2.06-.94 2.06-2.06.94zm-11 1L8.5 8.5l.94-2.06 2.06-.94-2.06-.94L8.5 2.5l-.94 2.06-2.06.94zm10 10l.94 2.06.94-2.06 2.06-.94-2.06-.94-.94-2.06-.94 2.06-2.06.94z\"/><path d=\"M17.41 7.96l-1.37-1.37c-.4-.4-.92-.59-1.43-.59-.52 0-1.04.2-1.43.59L10.3 9.45l-7.72 7.72c-.78.78-.78 2.05 0 2.83L4 21.41c.39.39.9.59 1.41.59.51 0 1.02-.2 1.41-.59l7.78-7.78 2.81-2.81c.8-.78.8-2.07 0-2.86zM5.41 20L4 18.59l7.72-7.72 1.47 1.35L5.41 20z\"/>\n",
              "  </svg>\n",
              "      </button>\n",
              "\n",
              "\n",
              "\n",
              "    <div id=\"df-1aa819f0-caf5-4042-9de6-a02189989eac\">\n",
              "      <button class=\"colab-df-quickchart\" onclick=\"quickchart('df-1aa819f0-caf5-4042-9de6-a02189989eac')\"\n",
              "              title=\"Suggest charts.\"\n",
              "              style=\"display:none;\">\n",
              "\n",
              "<svg xmlns=\"http://www.w3.org/2000/svg\" height=\"24px\"viewBox=\"0 0 24 24\"\n",
              "     width=\"24px\">\n",
              "    <g>\n",
              "        <path d=\"M19 3H5c-1.1 0-2 .9-2 2v14c0 1.1.9 2 2 2h14c1.1 0 2-.9 2-2V5c0-1.1-.9-2-2-2zM9 17H7v-7h2v7zm4 0h-2V7h2v10zm4 0h-2v-4h2v4z\"/>\n",
              "    </g>\n",
              "</svg>\n",
              "      </button>\n",
              "    </div>\n",
              "\n",
              "<style>\n",
              "  .colab-df-quickchart {\n",
              "    background-color: #E8F0FE;\n",
              "    border: none;\n",
              "    border-radius: 50%;\n",
              "    cursor: pointer;\n",
              "    display: none;\n",
              "    fill: #1967D2;\n",
              "    height: 32px;\n",
              "    padding: 0 0 0 0;\n",
              "    width: 32px;\n",
              "  }\n",
              "\n",
              "  .colab-df-quickchart:hover {\n",
              "    background-color: #E2EBFA;\n",
              "    box-shadow: 0px 1px 2px rgba(60, 64, 67, 0.3), 0px 1px 3px 1px rgba(60, 64, 67, 0.15);\n",
              "    fill: #174EA6;\n",
              "  }\n",
              "\n",
              "  [theme=dark] .colab-df-quickchart {\n",
              "    background-color: #3B4455;\n",
              "    fill: #D2E3FC;\n",
              "  }\n",
              "\n",
              "  [theme=dark] .colab-df-quickchart:hover {\n",
              "    background-color: #434B5C;\n",
              "    box-shadow: 0px 1px 3px 1px rgba(0, 0, 0, 0.15);\n",
              "    filter: drop-shadow(0px 1px 2px rgba(0, 0, 0, 0.3));\n",
              "    fill: #FFFFFF;\n",
              "  }\n",
              "</style>\n",
              "\n",
              "    <script>\n",
              "      async function quickchart(key) {\n",
              "        const containerElement = document.querySelector('#' + key);\n",
              "        const charts = await google.colab.kernel.invokeFunction(\n",
              "            'suggestCharts', [key], {});\n",
              "      }\n",
              "    </script>\n",
              "\n",
              "      <script>\n",
              "\n",
              "function displayQuickchartButton(domScope) {\n",
              "  let quickchartButtonEl =\n",
              "    domScope.querySelector('#df-1aa819f0-caf5-4042-9de6-a02189989eac button.colab-df-quickchart');\n",
              "  quickchartButtonEl.style.display =\n",
              "    google.colab.kernel.accessAllowed ? 'block' : 'none';\n",
              "}\n",
              "\n",
              "        displayQuickchartButton(document);\n",
              "      </script>\n",
              "      <style>\n",
              "    .colab-df-container {\n",
              "      display:flex;\n",
              "      flex-wrap:wrap;\n",
              "      gap: 12px;\n",
              "    }\n",
              "\n",
              "    .colab-df-convert {\n",
              "      background-color: #E8F0FE;\n",
              "      border: none;\n",
              "      border-radius: 50%;\n",
              "      cursor: pointer;\n",
              "      display: none;\n",
              "      fill: #1967D2;\n",
              "      height: 32px;\n",
              "      padding: 0 0 0 0;\n",
              "      width: 32px;\n",
              "    }\n",
              "\n",
              "    .colab-df-convert:hover {\n",
              "      background-color: #E2EBFA;\n",
              "      box-shadow: 0px 1px 2px rgba(60, 64, 67, 0.3), 0px 1px 3px 1px rgba(60, 64, 67, 0.15);\n",
              "      fill: #174EA6;\n",
              "    }\n",
              "\n",
              "    [theme=dark] .colab-df-convert {\n",
              "      background-color: #3B4455;\n",
              "      fill: #D2E3FC;\n",
              "    }\n",
              "\n",
              "    [theme=dark] .colab-df-convert:hover {\n",
              "      background-color: #434B5C;\n",
              "      box-shadow: 0px 1px 3px 1px rgba(0, 0, 0, 0.15);\n",
              "      filter: drop-shadow(0px 1px 2px rgba(0, 0, 0, 0.3));\n",
              "      fill: #FFFFFF;\n",
              "    }\n",
              "  </style>\n",
              "\n",
              "      <script>\n",
              "        const buttonEl =\n",
              "          document.querySelector('#df-9395258b-6088-4a4b-8237-564cd64872cd button.colab-df-convert');\n",
              "        buttonEl.style.display =\n",
              "          google.colab.kernel.accessAllowed ? 'block' : 'none';\n",
              "\n",
              "        async function convertToInteractive(key) {\n",
              "          const element = document.querySelector('#df-9395258b-6088-4a4b-8237-564cd64872cd');\n",
              "          const dataTable =\n",
              "            await google.colab.kernel.invokeFunction('convertToInteractive',\n",
              "                                                     [key], {});\n",
              "          if (!dataTable) return;\n",
              "\n",
              "          const docLinkHtml = 'Like what you see? Visit the ' +\n",
              "            '<a target=\"_blank\" href=https://colab.research.google.com/notebooks/data_table.ipynb>data table notebook</a>'\n",
              "            + ' to learn more about interactive tables.';\n",
              "          element.innerHTML = '';\n",
              "          dataTable['output_type'] = 'display_data';\n",
              "          await google.colab.output.renderOutput(dataTable, element);\n",
              "          const docLink = document.createElement('div');\n",
              "          docLink.innerHTML = docLinkHtml;\n",
              "          element.appendChild(docLink);\n",
              "        }\n",
              "      </script>\n",
              "    </div>\n",
              "  </div>\n"
            ]
          },
          "metadata": {},
          "execution_count": 5
        }
      ]
    },
    {
      "cell_type": "code",
      "source": [
        "df.info()"
      ],
      "metadata": {
        "colab": {
          "base_uri": "https://localhost:8080/"
        },
        "id": "CaSGzZHk6Iw3",
        "outputId": "64f52b8b-e7d1-4fb4-a952-b6b75846bd67"
      },
      "execution_count": 6,
      "outputs": [
        {
          "output_type": "stream",
          "name": "stdout",
          "text": [
            "<class 'pandas.core.frame.DataFrame'>\n",
            "RangeIndex: 10773 entries, 0 to 10772\n",
            "Data columns (total 98 columns):\n",
            " #   Column                  Non-Null Count  Dtype         \n",
            "---  ------                  --------------  -----         \n",
            " 0   stay_id                 10773 non-null  Int64         \n",
            " 1   admittime               10773 non-null  datetime64[ns]\n",
            " 2   dod                     4549 non-null   dbdate        \n",
            " 3   race                    10773 non-null  object        \n",
            " 4   gender                  10773 non-null  object        \n",
            " 5   age                     10773 non-null  Int64         \n",
            " 6   subject_id              10773 non-null  Int64         \n",
            " 7   stay_id_1               10773 non-null  Int64         \n",
            " 8   hematocrit_min          10684 non-null  float64       \n",
            " 9   hematocrit_max          10684 non-null  float64       \n",
            " 10  hemoglobin_min          10673 non-null  float64       \n",
            " 11  hemoglobin_max          10673 non-null  float64       \n",
            " 12  platelets_min           10675 non-null  float64       \n",
            " 13  platelets_max           10675 non-null  float64       \n",
            " 14  wbc_min                 10676 non-null  float64       \n",
            " 15  wbc_max                 10676 non-null  float64       \n",
            " 16  albumin_min             6268 non-null   float64       \n",
            " 17  albumin_max             6268 non-null   float64       \n",
            " 18  globulin_min            144 non-null    float64       \n",
            " 19  globulin_max            144 non-null    float64       \n",
            " 20  total_protein_min       256 non-null    float64       \n",
            " 21  total_protein_max       256 non-null    float64       \n",
            " 22  aniongap_min            10652 non-null  float64       \n",
            " 23  aniongap_max            10652 non-null  float64       \n",
            " 24  bicarbonate_min         10656 non-null  float64       \n",
            " 25  bicarbonate_max         10656 non-null  float64       \n",
            " 26  bun_min                 10688 non-null  float64       \n",
            " 27  bun_max                 10688 non-null  float64       \n",
            " 28  calcium_min             10324 non-null  float64       \n",
            " 29  calcium_max             10324 non-null  float64       \n",
            " 30  chloride_min            10662 non-null  float64       \n",
            " 31  chloride_max            10662 non-null  float64       \n",
            " 32  creatinine_min          10695 non-null  float64       \n",
            " 33  creatinine_max          10695 non-null  float64       \n",
            " 34  glucose_min             10643 non-null  float64       \n",
            " 35  glucose_max             10643 non-null  float64       \n",
            " 36  sodium_min              10662 non-null  float64       \n",
            " 37  sodium_max              10662 non-null  float64       \n",
            " 38  potassium_min           10662 non-null  float64       \n",
            " 39  potassium_max           10662 non-null  float64       \n",
            " 40  abs_basophils_min       6726 non-null   object        \n",
            " 41  abs_basophils_max       6726 non-null   object        \n",
            " 42  abs_eosinophils_min     6726 non-null   object        \n",
            " 43  abs_eosinophils_max     6726 non-null   object        \n",
            " 44  abs_lymphocytes_min     6732 non-null   object        \n",
            " 45  abs_lymphocytes_max     6732 non-null   object        \n",
            " 46  abs_monocytes_min       6726 non-null   object        \n",
            " 47  abs_monocytes_max       6726 non-null   object        \n",
            " 48  abs_neutrophils_min     6726 non-null   object        \n",
            " 49  abs_neutrophils_max     6726 non-null   object        \n",
            " 50  atyps_min               1499 non-null   float64       \n",
            " 51  atyps_max               1499 non-null   float64       \n",
            " 52  bands_min               1659 non-null   float64       \n",
            " 53  bands_max               1659 non-null   float64       \n",
            " 54  imm_granulocytes_min    2355 non-null   float64       \n",
            " 55  imm_granulocytes_max    2355 non-null   float64       \n",
            " 56  metas_min               1540 non-null   float64       \n",
            " 57  metas_max               1540 non-null   float64       \n",
            " 58  nrbc_min                674 non-null    float64       \n",
            " 59  nrbc_max                674 non-null    float64       \n",
            " 60  d_dimer_min             26 non-null     float64       \n",
            " 61  d_dimer_max             26 non-null     float64       \n",
            " 62  fibrinogen_min          3140 non-null   float64       \n",
            " 63  fibrinogen_max          3140 non-null   float64       \n",
            " 64  thrombin_min            15 non-null     float64       \n",
            " 65  thrombin_max            15 non-null     float64       \n",
            " 66  inr_min                 9783 non-null   float64       \n",
            " 67  inr_max                 9783 non-null   float64       \n",
            " 68  pt_min                  9783 non-null   float64       \n",
            " 69  pt_max                  9783 non-null   float64       \n",
            " 70  ptt_min                 9713 non-null   float64       \n",
            " 71  ptt_max                 9713 non-null   float64       \n",
            " 72  alt_min                 8112 non-null   float64       \n",
            " 73  alt_max                 8112 non-null   float64       \n",
            " 74  alp_min                 8084 non-null   float64       \n",
            " 75  alp_max                 8084 non-null   float64       \n",
            " 76  ast_min                 8148 non-null   float64       \n",
            " 77  ast_max                 8148 non-null   float64       \n",
            " 78  amylase_min             859 non-null    float64       \n",
            " 79  amylase_max             859 non-null    float64       \n",
            " 80  bilirubin_total_min     8049 non-null   float64       \n",
            " 81  bilirubin_total_max     8049 non-null   float64       \n",
            " 82  bilirubin_direct_min    1064 non-null   float64       \n",
            " 83  bilirubin_direct_max    1064 non-null   float64       \n",
            " 84  bilirubin_indirect_min  979 non-null    float64       \n",
            " 85  bilirubin_indirect_max  979 non-null    float64       \n",
            " 86  ck_cpk_min              3214 non-null   float64       \n",
            " 87  ck_cpk_max              3214 non-null   float64       \n",
            " 88  ck_mb_min               2654 non-null   float64       \n",
            " 89  ck_mb_max               2654 non-null   float64       \n",
            " 90  ggt_min                 127 non-null    float64       \n",
            " 91  ggt_max                 127 non-null    float64       \n",
            " 92  ld_ldh_min              4762 non-null   float64       \n",
            " 93  ld_ldh_max              4762 non-null   float64       \n",
            " 94  dialysis_present        608 non-null    Int64         \n",
            " 95  meld_initial            10773 non-null  object        \n",
            " 96  meld                    10773 non-null  float64       \n",
            " 97  target                  10773 non-null  Int64         \n",
            "dtypes: Int64(6), datetime64[ns](1), dbdate(1), float64(77), object(13)\n",
            "memory usage: 8.1+ MB\n"
          ]
        }
      ]
    },
    {
      "cell_type": "markdown",
      "source": [
        "**Observations**\n",
        "- There are a significant number of empty columns\n",
        "- There are a lot of features (98), it would be good to reduce these"
      ],
      "metadata": {
        "id": "Q_aDSFSWdVsz"
      }
    },
    {
      "cell_type": "markdown",
      "source": [
        "I will start by dropping unneeded columns"
      ],
      "metadata": {
        "id": "uF8D7BP8di3N"
      }
    },
    {
      "cell_type": "code",
      "source": [
        "df_clean = df.drop(['admittime','dod', 'meld_initial', 'stay_id', 'subject_id', 'stay_id_1'], axis=1) # drop date of death and time of admission"
      ],
      "metadata": {
        "id": "ZX6xOlEs6M2i"
      },
      "execution_count": 7,
      "outputs": []
    },
    {
      "cell_type": "markdown",
      "source": [
        "I will drop columns with < 60% of data"
      ],
      "metadata": {
        "id": "oZOoyPWp6Pjv"
      }
    },
    {
      "cell_type": "code",
      "source": [
        "thresh = len(df_clean)*0.6\n",
        "thresh"
      ],
      "metadata": {
        "colab": {
          "base_uri": "https://localhost:8080/"
        },
        "id": "pcbfMKO76O4_",
        "outputId": "f727c311-2279-4bd2-d2cb-c95e425977bb"
      },
      "execution_count": 8,
      "outputs": [
        {
          "output_type": "execute_result",
          "data": {
            "text/plain": [
              "6463.8"
            ]
          },
          "metadata": {},
          "execution_count": 8
        }
      ]
    },
    {
      "cell_type": "code",
      "source": [
        "df_clean.dropna(axis=1, thresh=thresh, inplace=True)"
      ],
      "metadata": {
        "id": "Wvg4E2ox6VSE"
      },
      "execution_count": 9,
      "outputs": []
    },
    {
      "cell_type": "markdown",
      "source": [
        "Convert columns with incorrect types to floats"
      ],
      "metadata": {
        "id": "y121mvo66Xkq"
      }
    },
    {
      "cell_type": "code",
      "source": [
        "cols_to_convert = list(df_clean.select_dtypes(object).drop(['race','gender'], axis=1).columns)\n",
        "\n",
        "for col in cols_to_convert:\n",
        "  df_clean[col] = df_clean.loc[:, col].astype(float)"
      ],
      "metadata": {
        "id": "no2S3aIy6fRF"
      },
      "execution_count": 10,
      "outputs": []
    },
    {
      "cell_type": "markdown",
      "source": [
        "I will investigate & clean the key categorical columns race and sex"
      ],
      "metadata": {
        "id": "4CdVXEdKd4dV"
      }
    },
    {
      "cell_type": "code",
      "source": [
        "df_clean['race'].value_counts()"
      ],
      "metadata": {
        "colab": {
          "base_uri": "https://localhost:8080/"
        },
        "id": "l1Jn8U67eBKB",
        "outputId": "9ac1e8bf-7373-4057-86b9-9ca4a6de9f33"
      },
      "execution_count": 11,
      "outputs": [
        {
          "output_type": "execute_result",
          "data": {
            "text/plain": [
              "WHITE                                        6751\n",
              "UNKNOWN                                      1230\n",
              "BLACK/AFRICAN AMERICAN                        940\n",
              "OTHER                                         345\n",
              "HISPANIC/LATINO - PUERTO RICAN                176\n",
              "HISPANIC OR LATINO                            157\n",
              "UNABLE TO OBTAIN                              153\n",
              "WHITE - OTHER EUROPEAN                        152\n",
              "ASIAN                                          90\n",
              "PORTUGUESE                                     87\n",
              "HISPANIC/LATINO - DOMINICAN                    85\n",
              "ASIAN - CHINESE                                73\n",
              "BLACK/CAPE VERDEAN                             62\n",
              "HISPANIC/LATINO - GUATEMALAN                   51\n",
              "WHITE - RUSSIAN                                51\n",
              "PATIENT DECLINED TO ANSWER                     49\n",
              "BLACK/AFRICAN                                  49\n",
              "BLACK/CARIBBEAN ISLAND                         37\n",
              "ASIAN - SOUTH EAST ASIAN                       35\n",
              "HISPANIC/LATINO - SALVADORAN                   32\n",
              "AMERICAN INDIAN/ALASKA NATIVE                  28\n",
              "NATIVE HAWAIIAN OR OTHER PACIFIC ISLANDER      22\n",
              "HISPANIC/LATINO - HONDURAN                     20\n",
              "WHITE - BRAZILIAN                              19\n",
              "HISPANIC/LATINO - MEXICAN                      18\n",
              "HISPANIC/LATINO - CENTRAL AMERICAN             18\n",
              "ASIAN - ASIAN INDIAN                            9\n",
              "WHITE - EASTERN EUROPEAN                        8\n",
              "MULTIPLE RACE/ETHNICITY                         7\n",
              "ASIAN - KOREAN                                  5\n",
              "HISPANIC/LATINO - CUBAN                         5\n",
              "HISPANIC/LATINO - COLUMBIAN                     5\n",
              "SOUTH AMERICAN                                  4\n",
              "Name: race, dtype: int64"
            ]
          },
          "metadata": {},
          "execution_count": 11
        }
      ]
    },
    {
      "cell_type": "code",
      "source": [
        "def clean_race_column(race):\n",
        "  if race in ('OTHER', 'UNKNOWN', 'UNABLE TO OBTAIN', 'PATIENT DECLINED TO ANSWER'):\n",
        "    return 'UNKNOWN'\n",
        "  else:\n",
        "    return race"
      ],
      "metadata": {
        "id": "fOKSoJKUeIif"
      },
      "execution_count": 12,
      "outputs": []
    },
    {
      "cell_type": "code",
      "source": [
        "df_clean['race'] = df_clean.loc[:,'race'].apply(clean_race_column)"
      ],
      "metadata": {
        "id": "XvXx_N2Peeye"
      },
      "execution_count": 13,
      "outputs": []
    },
    {
      "cell_type": "code",
      "source": [
        "df_clean['race'].value_counts()"
      ],
      "metadata": {
        "colab": {
          "base_uri": "https://localhost:8080/"
        },
        "id": "n0T53N5pen6i",
        "outputId": "951f2129-f24d-4ed6-850c-721b1fee330b"
      },
      "execution_count": 14,
      "outputs": [
        {
          "output_type": "execute_result",
          "data": {
            "text/plain": [
              "WHITE                                        6751\n",
              "UNKNOWN                                      1777\n",
              "BLACK/AFRICAN AMERICAN                        940\n",
              "HISPANIC/LATINO - PUERTO RICAN                176\n",
              "HISPANIC OR LATINO                            157\n",
              "WHITE - OTHER EUROPEAN                        152\n",
              "ASIAN                                          90\n",
              "PORTUGUESE                                     87\n",
              "HISPANIC/LATINO - DOMINICAN                    85\n",
              "ASIAN - CHINESE                                73\n",
              "BLACK/CAPE VERDEAN                             62\n",
              "HISPANIC/LATINO - GUATEMALAN                   51\n",
              "WHITE - RUSSIAN                                51\n",
              "BLACK/AFRICAN                                  49\n",
              "BLACK/CARIBBEAN ISLAND                         37\n",
              "ASIAN - SOUTH EAST ASIAN                       35\n",
              "HISPANIC/LATINO - SALVADORAN                   32\n",
              "AMERICAN INDIAN/ALASKA NATIVE                  28\n",
              "NATIVE HAWAIIAN OR OTHER PACIFIC ISLANDER      22\n",
              "HISPANIC/LATINO - HONDURAN                     20\n",
              "WHITE - BRAZILIAN                              19\n",
              "HISPANIC/LATINO - CENTRAL AMERICAN             18\n",
              "HISPANIC/LATINO - MEXICAN                      18\n",
              "ASIAN - ASIAN INDIAN                            9\n",
              "WHITE - EASTERN EUROPEAN                        8\n",
              "MULTIPLE RACE/ETHNICITY                         7\n",
              "ASIAN - KOREAN                                  5\n",
              "HISPANIC/LATINO - CUBAN                         5\n",
              "HISPANIC/LATINO - COLUMBIAN                     5\n",
              "SOUTH AMERICAN                                  4\n",
              "Name: race, dtype: int64"
            ]
          },
          "metadata": {},
          "execution_count": 14
        }
      ]
    },
    {
      "cell_type": "markdown",
      "source": [
        "Now I will check out gender"
      ],
      "metadata": {
        "id": "TB7jXBQGfjCA"
      }
    },
    {
      "cell_type": "code",
      "source": [
        "df_clean['gender'].value_counts()"
      ],
      "metadata": {
        "colab": {
          "base_uri": "https://localhost:8080/"
        },
        "id": "6JkCCAkYfig7",
        "outputId": "be54dead-e79d-4193-a5d3-a7b6cef25069"
      },
      "execution_count": 15,
      "outputs": [
        {
          "output_type": "execute_result",
          "data": {
            "text/plain": [
              "M    7448\n",
              "F    3325\n",
              "Name: gender, dtype: int64"
            ]
          },
          "metadata": {},
          "execution_count": 15
        }
      ]
    },
    {
      "cell_type": "markdown",
      "source": [
        "That looks clean, I'm ready to save the file"
      ],
      "metadata": {
        "id": "1OgcvJ-HfoJF"
      }
    },
    {
      "cell_type": "code",
      "source": [
        "# Save cleaned data file\n",
        "df_clean.to_csv('mimic_iv_cleaned.csv', index=False)\n",
        "!cp mimic_iv_cleaned.csv \"drive/My Drive/Flatiron/phase_5/colab/data\""
      ],
      "metadata": {
        "id": "TZb8N1Uc6gSR"
      },
      "execution_count": 16,
      "outputs": []
    }
  ]
}